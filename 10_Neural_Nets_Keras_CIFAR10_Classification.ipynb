{
  "nbformat": 4,
  "nbformat_minor": 0,
  "metadata": {
    "colab": {
      "provenance": []
    },
    "kernelspec": {
      "name": "python3",
      "display_name": "Python 3"
    },
    "language_info": {
      "name": "python"
    }
  },
  "cells": [
    {
      "cell_type": "markdown",
      "source": [
        "#Imports"
      ],
      "metadata": {
        "id": "OxK-1FEGEOzu"
      }
    },
    {
      "cell_type": "code",
      "source": [
        "import os\n",
        "import numpy as np\n",
        "import tensorflow as tf\n",
        "import keras\n",
        "from keras.models import Sequential\n",
        "from keras.layers import Dense, Activation, Dropout\n",
        "from IPython.display import display\n",
        "import matplotlib.pyplot as plt\n",
        "from tensorflow.keras.utils import array_to_img\n",
        "\n",
        "import itertools\n",
        "\n",
        "from sklearn.metrics import confusion_matrix\n",
        "\n",
        "%matplotlib inline"
      ],
      "metadata": {
        "id": "g_s2HqQYExBU"
      },
      "execution_count": 171,
      "outputs": []
    },
    {
      "cell_type": "code",
      "execution_count": 2,
      "metadata": {
        "id": "kv4p3P2gEITA"
      },
      "outputs": [],
      "source": [
        "from numpy.random import seed\n",
        "seed(888)\n",
        "tf.random.set_seed(\n",
        "    seed(404)\n",
        ")"
      ]
    },
    {
      "cell_type": "code",
      "source": [
        "from keras.datasets import cifar10"
      ],
      "metadata": {
        "id": "7YvAF3PDFKqu"
      },
      "execution_count": 3,
      "outputs": []
    },
    {
      "cell_type": "markdown",
      "source": [
        "#Get the Data"
      ],
      "metadata": {
        "id": "oT4DiuRHEWzc"
      }
    },
    {
      "cell_type": "code",
      "source": [
        "(x_train_all, y_train_all),(x_test, y_test) = cifar10.load_data()"
      ],
      "metadata": {
        "colab": {
          "base_uri": "https://localhost:8080/"
        },
        "id": "K1HZH5mVFm3Z",
        "outputId": "0c85d3fd-6e42-4d17-afed-09b477c6954e"
      },
      "execution_count": 4,
      "outputs": [
        {
          "output_type": "stream",
          "name": "stdout",
          "text": [
            "Downloading data from https://www.cs.toronto.edu/~kriz/cifar-10-python.tar.gz\n",
            "170498071/170498071 [==============================] - 11s 0us/step\n"
          ]
        }
      ]
    },
    {
      "cell_type": "markdown",
      "source": [
        "#constants"
      ],
      "metadata": {
        "id": "vhpJZWQDIkkV"
      }
    },
    {
      "cell_type": "code",
      "source": [
        "LABEL_NAMES = ['Plane','Car','Bird','Cat','Deer','Dog','Frog','Horse','Ship','Truck']\n",
        "IMAGE_WIDTH = 32\n",
        "IMAGE_HEIGHT = 32\n",
        "IMAGE_PIXELS = IMAGE_WIDTH * IMAGE_HEIGHT\n",
        "COLOR_CHANNELS = 3\n",
        "TOTAL_INPUTS = IMAGE_PIXELS*COLOR_CHANNELS\n",
        "VALIDATION_SIZE = 10000\n",
        "SMALL_TRAIN_SIZE = 1000"
      ],
      "metadata": {
        "id": "2CBF_xfCImaA"
      },
      "execution_count": 49,
      "outputs": []
    },
    {
      "cell_type": "markdown",
      "source": [
        "#Explore the data"
      ],
      "metadata": {
        "id": "ImFk5qptGBt5"
      }
    },
    {
      "cell_type": "code",
      "source": [
        "x_train_all[0]"
      ],
      "metadata": {
        "colab": {
          "base_uri": "https://localhost:8080/"
        },
        "id": "3SVCpGvVFz5y",
        "outputId": "da23cc85-f4f9-4c7b-8b2d-0c9fd743b902"
      },
      "execution_count": 6,
      "outputs": [
        {
          "output_type": "execute_result",
          "data": {
            "text/plain": [
              "array([[[ 59,  62,  63],\n",
              "        [ 43,  46,  45],\n",
              "        [ 50,  48,  43],\n",
              "        ...,\n",
              "        [158, 132, 108],\n",
              "        [152, 125, 102],\n",
              "        [148, 124, 103]],\n",
              "\n",
              "       [[ 16,  20,  20],\n",
              "        [  0,   0,   0],\n",
              "        [ 18,   8,   0],\n",
              "        ...,\n",
              "        [123,  88,  55],\n",
              "        [119,  83,  50],\n",
              "        [122,  87,  57]],\n",
              "\n",
              "       [[ 25,  24,  21],\n",
              "        [ 16,   7,   0],\n",
              "        [ 49,  27,   8],\n",
              "        ...,\n",
              "        [118,  84,  50],\n",
              "        [120,  84,  50],\n",
              "        [109,  73,  42]],\n",
              "\n",
              "       ...,\n",
              "\n",
              "       [[208, 170,  96],\n",
              "        [201, 153,  34],\n",
              "        [198, 161,  26],\n",
              "        ...,\n",
              "        [160, 133,  70],\n",
              "        [ 56,  31,   7],\n",
              "        [ 53,  34,  20]],\n",
              "\n",
              "       [[180, 139,  96],\n",
              "        [173, 123,  42],\n",
              "        [186, 144,  30],\n",
              "        ...,\n",
              "        [184, 148,  94],\n",
              "        [ 97,  62,  34],\n",
              "        [ 83,  53,  34]],\n",
              "\n",
              "       [[177, 144, 116],\n",
              "        [168, 129,  94],\n",
              "        [179, 142,  87],\n",
              "        ...,\n",
              "        [216, 184, 140],\n",
              "        [151, 118,  84],\n",
              "        [123,  92,  72]]], dtype=uint8)"
            ]
          },
          "metadata": {},
          "execution_count": 6
        }
      ]
    },
    {
      "cell_type": "code",
      "source": [
        "pic = array_to_img(x_train_all[7])\n",
        "display(pic)"
      ],
      "metadata": {
        "colab": {
          "base_uri": "https://localhost:8080/",
          "height": 49
        },
        "id": "Q5gDlkvOHX8q",
        "outputId": "69342331-503a-4c06-d2c4-580c292f58cf"
      },
      "execution_count": 9,
      "outputs": [
        {
          "output_type": "display_data",
          "data": {
            "text/plain": [
              "<PIL.Image.Image image mode=RGB size=32x32 at 0x7F4627978FD0>"
            ],
            "image/png": "[encoded data removed]"
          },
          "metadata": {}
        }
      ]
    },
    {
      "cell_type": "code",
      "source": [
        "y_train_all.shape"
      ],
      "metadata": {
        "colab": {
          "base_uri": "https://localhost:8080/"
        },
        "id": "rCjypee7HYAR",
        "outputId": "b56a69ab-50bc-4351-a934-182d1b2bfac5"
      },
      "execution_count": 10,
      "outputs": [
        {
          "output_type": "execute_result",
          "data": {
            "text/plain": [
              "(50000, 1)"
            ]
          },
          "metadata": {},
          "execution_count": 10
        }
      ]
    },
    {
      "cell_type": "code",
      "source": [
        "y_train_all[7][0]"
      ],
      "metadata": {
        "colab": {
          "base_uri": "https://localhost:8080/"
        },
        "id": "n8djpuI3HYEd",
        "outputId": "441e638a-032f-446d-b32b-68ed8123a3c6"
      },
      "execution_count": 11,
      "outputs": [
        {
          "output_type": "execute_result",
          "data": {
            "text/plain": [
              "7"
            ]
          },
          "metadata": {},
          "execution_count": 11
        }
      ]
    },
    {
      "cell_type": "code",
      "source": [
        "LABEL_NAMES[y_train_all[7][0]]"
      ],
      "metadata": {
        "colab": {
          "base_uri": "https://localhost:8080/",
          "height": 35
        },
        "id": "7QESypmYHYOY",
        "outputId": "bf14beef-b90a-4bba-8fc7-a7c9b7526524"
      },
      "execution_count": 12,
      "outputs": [
        {
          "output_type": "execute_result",
          "data": {
            "text/plain": [
              "'Horse'"
            ],
            "application/vnd.google.colaboratory.intrinsic+json": {
              "type": "string"
            }
          },
          "metadata": {},
          "execution_count": 12
        }
      ]
    },
    {
      "cell_type": "code",
      "source": [
        "plt.imshow(x_train_all[4])\n",
        "plt.xlabel(LABEL_NAMES[y_train_all[4][0]])\n",
        "plt.show()"
      ],
      "metadata": {
        "colab": {
          "base_uri": "https://localhost:8080/",
          "height": 280
        },
        "id": "uelI__gLJvFW",
        "outputId": "d19ae0f4-4a76-48a2-d4ca-6da5e46072e1"
      },
      "execution_count": 13,
      "outputs": [
        {
          "output_type": "display_data",
          "data": {
            "text/plain": [
              "<Figure size 432x288 with 1 Axes>"
            ],
            "image/png": "[encoded data removed]"
          },
          "metadata": {
            "needs_background": "light"
          }
        }
      ]
    },
    {
      "cell_type": "code",
      "source": [
        "plt.imshow(x_train_all[3])\n",
        "plt.xlabel(LABEL_NAMES[y_train_all[3][0]])\n",
        "plt.show()"
      ],
      "metadata": {
        "colab": {
          "base_uri": "https://localhost:8080/",
          "height": 280
        },
        "id": "SLJNJi_DJvIa",
        "outputId": "f6e3d6aa-9b93-4c63-b45a-d1170ed34730"
      },
      "execution_count": null,
      "outputs": [
        {
          "output_type": "display_data",
          "data": {
            "text/plain": [
              "<Figure size 432x288 with 1 Axes>"
            ],
            "image/png": "[encoded data removed]"
          },
          "metadata": {
            "needs_background": "light"
          }
        }
      ]
    },
    {
      "cell_type": "code",
      "source": [
        "plt.imshow(x_train_all[2])\n",
        "plt.xlabel(LABEL_NAMES[y_train_all[2][0]])\n",
        "plt.show()"
      ],
      "metadata": {
        "colab": {
          "base_uri": "https://localhost:8080/",
          "height": 280
        },
        "id": "z6Oh91EhJvLz",
        "outputId": "ce42f1e7-5442-4c3a-c65f-b9f1b2e46f89"
      },
      "execution_count": null,
      "outputs": [
        {
          "output_type": "display_data",
          "data": {
            "text/plain": [
              "<Figure size 432x288 with 1 Axes>"
            ],
            "image/png": "[encoded data removed]"
          },
          "metadata": {
            "needs_background": "light"
          }
        }
      ]
    },
    {
      "cell_type": "code",
      "source": [
        "plt.figure(figsize=(15,5))\n",
        "for i in range(10):\n",
        "  plt.subplot(1,10,i+1)\n",
        "  plt.xticks([])\n",
        "  plt.yticks([])\n",
        "  plt.xlabel(LABEL_NAMES[y_train_all[i][0]], fontsize=14)\n",
        "  plt.imshow(x_train_all[i])"
      ],
      "metadata": {
        "id": "WkztktPkJvPv",
        "colab": {
          "base_uri": "https://localhost:8080/",
          "height": 123
        },
        "outputId": "584512f4-e6e3-4a8a-c403-2ae7e3c32e8e"
      },
      "execution_count": 26,
      "outputs": [
        {
          "output_type": "display_data",
          "data": {
            "text/plain": [
              "<Figure size 1080x360 with 10 Axes>"
            ],
            "image/png": "[encoded data removed]"
          },
          "metadata": {}
        }
      ]
    },
    {
      "cell_type": "code",
      "source": [
        "x_train_all[0].shape"
      ],
      "metadata": {
        "id": "TMVcN5UBJvS1",
        "colab": {
          "base_uri": "https://localhost:8080/"
        },
        "outputId": "98949d85-74b0-4b31-c93e-96d0b61f5dcd"
      },
      "execution_count": 27,
      "outputs": [
        {
          "output_type": "execute_result",
          "data": {
            "text/plain": [
              "(32, 32, 3)"
            ]
          },
          "metadata": {},
          "execution_count": 27
        }
      ]
    },
    {
      "cell_type": "code",
      "source": [
        "nr_images, x, y, c = x_train_all.shape\n",
        "print(f\"images = {nr_images} \\t | width = {x} \\t| height = {y} \\t| channels = {c}\")"
      ],
      "metadata": {
        "id": "JiZF9KC9HYRd",
        "colab": {
          "base_uri": "https://localhost:8080/"
        },
        "outputId": "fb772c9f-afa6-4ba4-e110-47c5c705ace3"
      },
      "execution_count": 30,
      "outputs": [
        {
          "output_type": "stream",
          "name": "stdout",
          "text": [
            "images = 50000 \t | width = 32 \t| height = 32 \t| channels = 3\n"
          ]
        }
      ]
    },
    {
      "cell_type": "code",
      "source": [
        "x_test.shape"
      ],
      "metadata": {
        "colab": {
          "base_uri": "https://localhost:8080/"
        },
        "id": "AhRykZxvgEh-",
        "outputId": "1fb3c5e9-1dad-4943-b4ef-cf1cb336ce38"
      },
      "execution_count": 32,
      "outputs": [
        {
          "output_type": "execute_result",
          "data": {
            "text/plain": [
              "(10000, 32, 32, 3)"
            ]
          },
          "metadata": {},
          "execution_count": 32
        }
      ]
    },
    {
      "cell_type": "markdown",
      "source": [
        "preprocess data"
      ],
      "metadata": {
        "id": "4bXj9-vageFJ"
      }
    },
    {
      "cell_type": "code",
      "source": [
        "type(x_train_all[0][0][0][0])"
      ],
      "metadata": {
        "colab": {
          "base_uri": "https://localhost:8080/"
        },
        "id": "DgoeaKCDgEky",
        "outputId": "60723676-dd3c-4f8f-95f3-393bd075d40a"
      },
      "execution_count": 34,
      "outputs": [
        {
          "output_type": "execute_result",
          "data": {
            "text/plain": [
              "numpy.uint8"
            ]
          },
          "metadata": {},
          "execution_count": 34
        }
      ]
    },
    {
      "cell_type": "code",
      "source": [
        "x_train_all, x_test = x_train_all / 255.0, x_test / 255.0"
      ],
      "metadata": {
        "id": "eTdaIuIUgEnq"
      },
      "execution_count": 35,
      "outputs": []
    },
    {
      "cell_type": "code",
      "source": [
        "type(x_train_all[0][0][0][0])"
      ],
      "metadata": {
        "colab": {
          "base_uri": "https://localhost:8080/"
        },
        "id": "w1s0di5wgEqz",
        "outputId": "5b8bf068-d96f-4df8-bb7d-f9231aecd1a7"
      },
      "execution_count": 36,
      "outputs": [
        {
          "output_type": "execute_result",
          "data": {
            "text/plain": [
              "numpy.float64"
            ]
          },
          "metadata": {},
          "execution_count": 36
        }
      ]
    },
    {
      "cell_type": "code",
      "source": [
        "x_train_all[0][0][0][0]"
      ],
      "metadata": {
        "colab": {
          "base_uri": "https://localhost:8080/"
        },
        "id": "8zG1W0PlgEtq",
        "outputId": "c5790364-3a82-4500-ea71-01c7e8393404"
      },
      "execution_count": 37,
      "outputs": [
        {
          "output_type": "execute_result",
          "data": {
            "text/plain": [
              "0.23137254901960785"
            ]
          },
          "metadata": {},
          "execution_count": 37
        }
      ]
    },
    {
      "cell_type": "markdown",
      "source": [
        "##flatten dataset"
      ],
      "metadata": {
        "id": "7KjneHd4hbOH"
      }
    },
    {
      "cell_type": "code",
      "source": [
        "x_train_all = x_train_all.reshape(x_train_all.shape[0], TOTAL_INPUTS)"
      ],
      "metadata": {
        "id": "Io8LcUfLgExF"
      },
      "execution_count": 39,
      "outputs": []
    },
    {
      "cell_type": "code",
      "source": [
        "x_train_all.shape"
      ],
      "metadata": {
        "colab": {
          "base_uri": "https://localhost:8080/"
        },
        "id": "PIHf1zKXgE1O",
        "outputId": "a241666f-1b68-4b78-fc73-cac170894dfa"
      },
      "execution_count": 40,
      "outputs": [
        {
          "output_type": "execute_result",
          "data": {
            "text/plain": [
              "(50000, 3072)"
            ]
          },
          "metadata": {},
          "execution_count": 40
        }
      ]
    },
    {
      "cell_type": "code",
      "source": [
        "x_test = x_test.reshape(x_test.shape[0], TOTAL_INPUTS)\n",
        "print(f'Shape of x_test = {x_test.shape}')"
      ],
      "metadata": {
        "colab": {
          "base_uri": "https://localhost:8080/"
        },
        "id": "ZBDr-qCzgE5p",
        "outputId": "a33dfaf8-ea56-49ea-f316-3c71347a47fa"
      },
      "execution_count": 41,
      "outputs": [
        {
          "output_type": "stream",
          "name": "stdout",
          "text": [
            "Shape of x_test = (10000, 3072)\n"
          ]
        }
      ]
    },
    {
      "cell_type": "markdown",
      "source": [
        "## splitting out validation "
      ],
      "metadata": {
        "id": "rujqF5K8isU0"
      }
    },
    {
      "cell_type": "code",
      "source": [
        "x_val = x_train_all[:VALIDATION_SIZE]\n",
        "y_val = y_train_all[:VALIDATION_SIZE]"
      ],
      "metadata": {
        "id": "tsD3yyxzgFAK"
      },
      "execution_count": 43,
      "outputs": []
    },
    {
      "cell_type": "code",
      "source": [
        "x_train = x_train_all[VALIDATION_SIZE:]\n",
        "y_train = y_train_all[VALIDATION_SIZE:]\n",
        "x_train.shape"
      ],
      "metadata": {
        "colab": {
          "base_uri": "https://localhost:8080/"
        },
        "id": "xLqsv_w0ioDZ",
        "outputId": "ecdbdda9-2066-4c04-94ba-ea416c73fc77"
      },
      "execution_count": 47,
      "outputs": [
        {
          "output_type": "execute_result",
          "data": {
            "text/plain": [
              "(40000, 3072)"
            ]
          },
          "metadata": {},
          "execution_count": 47
        }
      ]
    },
    {
      "cell_type": "code",
      "source": [
        "y_train.shape"
      ],
      "metadata": {
        "colab": {
          "base_uri": "https://localhost:8080/"
        },
        "id": "DQ6AN-OgioGc",
        "outputId": "08c56357-2935-4bfa-898a-abe370410903"
      },
      "execution_count": 48,
      "outputs": [
        {
          "output_type": "execute_result",
          "data": {
            "text/plain": [
              "(40000, 1)"
            ]
          },
          "metadata": {},
          "execution_count": 48
        }
      ]
    },
    {
      "cell_type": "code",
      "source": [],
      "metadata": {
        "id": "SHpYvHFNioJl"
      },
      "execution_count": null,
      "outputs": []
    },
    {
      "cell_type": "markdown",
      "source": [
        "### small training set to play with"
      ],
      "metadata": {
        "id": "YeOi-OJwk1HL"
      }
    },
    {
      "cell_type": "code",
      "source": [
        "x_train_xs = x_train[:SMALL_TRAIN_SIZE]\n",
        "y_train_xs = y_train[:SMALL_TRAIN_SIZE]"
      ],
      "metadata": {
        "id": "Vw7pNFmaioMc"
      },
      "execution_count": 50,
      "outputs": []
    },
    {
      "cell_type": "markdown",
      "source": [
        "#build the model - define the nn using keras"
      ],
      "metadata": {
        "id": "e0Fr8SqVldCE"
      }
    },
    {
      "cell_type": "markdown",
      "source": [
        "3072 = 32 x 32 x 3 in the dense layer because its a picture, 6 units, activation = relu"
      ],
      "metadata": {
        "id": "R0tL9zpxmIqu"
      }
    },
    {
      "cell_type": "code",
      "source": [
        "model_1 = Sequential([\n",
        "    Dense(units=128, input_dim=TOTAL_INPUTS, activation='relu', name='m1_hidden1'),\n",
        "    Dense(units=64, activation='relu', name='m1_hidden2'),\n",
        "    Dense(16, activation='relu', name='m1_hidden3'),\n",
        "    Dense(10, activation='softmax', name='m1_hidden4')\n",
        "])\n",
        "\n",
        "model_1.compile(optimizer='adam', \n",
        "                loss='sparse_categorical_crossentropy', \n",
        "                metrics=['accuracy'])"
      ],
      "metadata": {
        "id": "qPOgxYdGioPU"
      },
      "execution_count": 82,
      "outputs": []
    },
    {
      "cell_type": "code",
      "source": [
        "model_2 = Sequential()\n",
        "model_2.add(Dropout(0.2, seed=42, input_shape=(TOTAL_INPUTS,)))\n",
        "model_2.add(Dense(128, activation='relu', name='m2_hidden1'))\n",
        "model_2.add(Dense(64, activation='relu', name='m2_hidden2'))\n",
        "model_2.add(Dense(16, activation='relu', name='m2_hidden3'))\n",
        "model_2.add(Dense(10, activation='softmax', name='m2_hidden4'))\n",
        "\n",
        "model_2.compile(optimizer='adam',\n",
        "                loss = 'sparse_categorical_crossentropy',\n",
        "                metrics=['accuracy'])"
      ],
      "metadata": {
        "id": "cbvUWvsQ2M9-"
      },
      "execution_count": 83,
      "outputs": []
    },
    {
      "cell_type": "code",
      "source": [
        "type(model_1)"
      ],
      "metadata": {
        "colab": {
          "base_uri": "https://localhost:8080/"
        },
        "id": "MISENIjAlba_",
        "outputId": "c3a95fbc-4d18-4841-e4eb-349199c72ec0"
      },
      "execution_count": 55,
      "outputs": [
        {
          "output_type": "execute_result",
          "data": {
            "text/plain": [
              "keras.engine.sequential.Sequential"
            ]
          },
          "metadata": {},
          "execution_count": 55
        }
      ]
    },
    {
      "cell_type": "code",
      "source": [
        "model_1.summary()"
      ],
      "metadata": {
        "colab": {
          "base_uri": "https://localhost:8080/"
        },
        "id": "xymCd4jylbdg",
        "outputId": "bf234cdc-71c2-427b-9391-9f579c14c9ad"
      },
      "execution_count": 65,
      "outputs": [
        {
          "output_type": "stream",
          "name": "stdout",
          "text": [
            "Model: \"sequential_3\"\n",
            "_________________________________________________________________\n",
            " Layer (type)                Output Shape              Param #   \n",
            "=================================================================\n",
            " m1_hidden1 (Dense)          (None, 128)               393344    \n",
            "                                                                 \n",
            " m1_hidden2 (Dense)          (None, 64)                8256      \n",
            "                                                                 \n",
            " m1_hidden3 (Dense)          (None, 16)                1040      \n",
            "                                                                 \n",
            " m1_hidden4 (Dense)          (None, 10)                170       \n",
            "                                                                 \n",
            "=================================================================\n",
            "Total params: 402,810\n",
            "Trainable params: 402,810\n",
            "Non-trainable params: 0\n",
            "_________________________________________________________________\n"
          ]
        }
      ]
    },
    {
      "cell_type": "markdown",
      "source": [
        "# Fit the Model"
      ],
      "metadata": {
        "id": "yyZwrG9xurMv"
      }
    },
    {
      "cell_type": "code",
      "source": [
        "samples_per_batch = 1000"
      ],
      "metadata": {
        "id": "VdaTQ5X8w0WQ"
      },
      "execution_count": 66,
      "outputs": []
    },
    {
      "cell_type": "code",
      "source": [
        "from keras.callbacks import EarlyStopping\n",
        "%%time\n",
        "nr_epochs = 150\n",
        "model_1.fit(x_train_xs, y_train_xs, batch_size=samples_per_batch, \n",
        "            epochs=nr_epochs, verbose=1, validation_data=(x_val, y_val))"
      ],
      "metadata": {
        "id": "89O4X6EPlbgd"
      },
      "execution_count": null,
      "outputs": []
    },
    {
      "cell_type": "code",
      "source": [
        "%%time\n",
        "nr_epochs = 150\n",
        "model_2.fit(x_train_xs, y_train_xs, batch_size=samples_per_batch, \n",
        "            epochs=nr_epochs, verbose=1, validation_data=(x_val, y_val))"
      ],
      "metadata": {
        "id": "oCNHjIY_lbjP"
      },
      "execution_count": null,
      "outputs": []
    },
    {
      "cell_type": "code",
      "source": [
        "%%time\n",
        "nr_epochs = 150\n",
        "model_1.fit(x_train, y_train, batch_size=samples_per_batch, \n",
        "            epochs=nr_epochs, verbose=1, validation_data=(x_val, y_val))"
      ],
      "metadata": {
        "id": "hNDwNtW1lbmX"
      },
      "execution_count": null,
      "outputs": []
    },
    {
      "cell_type": "code",
      "source": [
        "%%time\n",
        "nr_epochs = 150\n",
        "model_2.fit(x_train, y_train, batch_size=samples_per_batch, \n",
        "            epochs=nr_epochs, verbose=1, validation_data=(x_val, y_val))"
      ],
      "metadata": {
        "id": "NU0hA3srlbo8"
      },
      "execution_count": null,
      "outputs": []
    },
    {
      "cell_type": "markdown",
      "source": [
        "# Predictions"
      ],
      "metadata": {
        "id": "LpNmLWII6kWY"
      }
    },
    {
      "cell_type": "code",
      "source": [
        "x_val[0].shape"
      ],
      "metadata": {
        "colab": {
          "base_uri": "https://localhost:8080/"
        },
        "id": "IL5CW1pblbrk",
        "outputId": "9775517f-2851-4159-8360-41f7d52c0508"
      },
      "execution_count": 88,
      "outputs": [
        {
          "output_type": "execute_result",
          "data": {
            "text/plain": [
              "(3072,)"
            ]
          },
          "metadata": {},
          "execution_count": 88
        }
      ]
    },
    {
      "cell_type": "code",
      "source": [
        "test = np.expand_dims(x_val[0], axis=0)\n",
        "test.shape"
      ],
      "metadata": {
        "colab": {
          "base_uri": "https://localhost:8080/"
        },
        "id": "NO9GolP5lb-n",
        "outputId": "171c894d-6d17-49a2-e4b3-f34238836725"
      },
      "execution_count": 90,
      "outputs": [
        {
          "output_type": "execute_result",
          "data": {
            "text/plain": [
              "(1, 3072)"
            ]
          },
          "metadata": {},
          "execution_count": 90
        }
      ]
    },
    {
      "cell_type": "code",
      "source": [
        "np.set_printoptions(precision=3)"
      ],
      "metadata": {
        "id": "iXDUw8z99hMw"
      },
      "execution_count": 93,
      "outputs": []
    },
    {
      "cell_type": "code",
      "source": [
        "model_2.predict(test)"
      ],
      "metadata": {
        "colab": {
          "base_uri": "https://localhost:8080/"
        },
        "id": "wIzpS4BLlcAq",
        "outputId": "57a150e3-a4d9-4af3-fba0-027ef4ec33d6"
      },
      "execution_count": 95,
      "outputs": [
        {
          "output_type": "stream",
          "name": "stdout",
          "text": [
            "1/1 [==============================] - 0s 56ms/step\n"
          ]
        },
        {
          "output_type": "execute_result",
          "data": {
            "text/plain": [
              "array([[1.559e-02, 2.943e-03, 1.092e-01, 9.962e-02, 1.199e-01, 6.145e-02,\n",
              "        5.752e-01, 1.539e-02, 4.902e-04, 2.625e-04]], dtype=float32)"
            ]
          },
          "metadata": {},
          "execution_count": 95
        }
      ]
    },
    {
      "cell_type": "code",
      "source": [
        "model_2.predict(x_val).shape"
      ],
      "metadata": {
        "colab": {
          "base_uri": "https://localhost:8080/"
        },
        "id": "H4PIM3jeioRp",
        "outputId": "22c0e0bf-519e-4f74-d379-841fe52856ba"
      },
      "execution_count": 96,
      "outputs": [
        {
          "output_type": "stream",
          "name": "stdout",
          "text": [
            "313/313 [==============================] - 2s 6ms/step\n"
          ]
        },
        {
          "output_type": "execute_result",
          "data": {
            "text/plain": [
              "(10000, 10)"
            ]
          },
          "metadata": {},
          "execution_count": 96
        }
      ]
    },
    {
      "cell_type": "code",
      "source": [
        "predict_x = model_2.predict(test)\n",
        "np.argmax(predict_x,axis=1)"
      ],
      "metadata": {
        "colab": {
          "base_uri": "https://localhost:8080/"
        },
        "id": "eDk6q2sQioUx",
        "outputId": "621be040-045c-4c97-fff9-4322c1a97227"
      },
      "execution_count": 99,
      "outputs": [
        {
          "output_type": "stream",
          "name": "stdout",
          "text": [
            "1/1 [==============================] - 0s 31ms/step\n"
          ]
        },
        {
          "output_type": "execute_result",
          "data": {
            "text/plain": [
              "array([6])"
            ]
          },
          "metadata": {},
          "execution_count": 99
        }
      ]
    },
    {
      "cell_type": "code",
      "source": [
        "y_val[0]"
      ],
      "metadata": {
        "colab": {
          "base_uri": "https://localhost:8080/"
        },
        "id": "Wqm0YbLkioXY",
        "outputId": "f7c55331-0633-490b-b9f7-2b3ad7b370c5"
      },
      "execution_count": 100,
      "outputs": [
        {
          "output_type": "execute_result",
          "data": {
            "text/plain": [
              "array([6], dtype=uint8)"
            ]
          },
          "metadata": {},
          "execution_count": 100
        }
      ]
    },
    {
      "cell_type": "code",
      "source": [
        "for i in range(10):\n",
        "  test = np.expand_dims(x_val[i], axis=0)\n",
        "  np.set_printoptions(precision=3)\n",
        "  predict_x = model_2.predict(test)\n",
        "  for i in range(len(predict_x)):\n",
        "    for j in range(10):\n",
        "      preds = np.argmax(predict_x,axis=1)\n",
        "      print(f'actual:  {y_val[j][0]}, predicted = {preds}')"
      ],
      "metadata": {
        "colab": {
          "base_uri": "https://localhost:8080/"
        },
        "id": "EQgL5c6nioZ_",
        "outputId": "1ef6b9dc-6320-4f44-e93c-f38d4a64bfeb"
      },
      "execution_count": 135,
      "outputs": [
        {
          "output_type": "stream",
          "name": "stdout",
          "text": [
            "1/1 [==============================] - 0s 25ms/step\n",
            "actual:  6, predicted = [6]\n",
            "actual:  9, predicted = [6]\n",
            "actual:  9, predicted = [6]\n",
            "actual:  4, predicted = [6]\n",
            "actual:  1, predicted = [6]\n",
            "actual:  1, predicted = [6]\n",
            "actual:  2, predicted = [6]\n",
            "actual:  7, predicted = [6]\n",
            "actual:  8, predicted = [6]\n",
            "actual:  3, predicted = [6]\n",
            "1/1 [==============================] - 0s 23ms/step\n",
            "actual:  6, predicted = [8]\n",
            "actual:  9, predicted = [8]\n",
            "actual:  9, predicted = [8]\n",
            "actual:  4, predicted = [8]\n",
            "actual:  1, predicted = [8]\n",
            "actual:  1, predicted = [8]\n",
            "actual:  2, predicted = [8]\n",
            "actual:  7, predicted = [8]\n",
            "actual:  8, predicted = [8]\n",
            "actual:  3, predicted = [8]\n",
            "1/1 [==============================] - 0s 25ms/step\n",
            "actual:  6, predicted = [9]\n",
            "actual:  9, predicted = [9]\n",
            "actual:  9, predicted = [9]\n",
            "actual:  4, predicted = [9]\n",
            "actual:  1, predicted = [9]\n",
            "actual:  1, predicted = [9]\n",
            "actual:  2, predicted = [9]\n",
            "actual:  7, predicted = [9]\n",
            "actual:  8, predicted = [9]\n",
            "actual:  3, predicted = [9]\n",
            "1/1 [==============================] - 0s 24ms/step\n",
            "actual:  6, predicted = [4]\n",
            "actual:  9, predicted = [4]\n",
            "actual:  9, predicted = [4]\n",
            "actual:  4, predicted = [4]\n",
            "actual:  1, predicted = [4]\n",
            "actual:  1, predicted = [4]\n",
            "actual:  2, predicted = [4]\n",
            "actual:  7, predicted = [4]\n",
            "actual:  8, predicted = [4]\n",
            "actual:  3, predicted = [4]\n",
            "1/1 [==============================] - 0s 27ms/step\n",
            "actual:  6, predicted = [0]\n",
            "actual:  9, predicted = [0]\n",
            "actual:  9, predicted = [0]\n",
            "actual:  4, predicted = [0]\n",
            "actual:  1, predicted = [0]\n",
            "actual:  1, predicted = [0]\n",
            "actual:  2, predicted = [0]\n",
            "actual:  7, predicted = [0]\n",
            "actual:  8, predicted = [0]\n",
            "actual:  3, predicted = [0]\n",
            "1/1 [==============================] - 0s 30ms/step\n",
            "actual:  6, predicted = [9]\n",
            "actual:  9, predicted = [9]\n",
            "actual:  9, predicted = [9]\n",
            "actual:  4, predicted = [9]\n",
            "actual:  1, predicted = [9]\n",
            "actual:  1, predicted = [9]\n",
            "actual:  2, predicted = [9]\n",
            "actual:  7, predicted = [9]\n",
            "actual:  8, predicted = [9]\n",
            "actual:  3, predicted = [9]\n",
            "1/1 [==============================] - 0s 23ms/step\n",
            "actual:  6, predicted = [2]\n",
            "actual:  9, predicted = [2]\n",
            "actual:  9, predicted = [2]\n",
            "actual:  4, predicted = [2]\n",
            "actual:  1, predicted = [2]\n",
            "actual:  1, predicted = [2]\n",
            "actual:  2, predicted = [2]\n",
            "actual:  7, predicted = [2]\n",
            "actual:  8, predicted = [2]\n",
            "actual:  3, predicted = [2]\n",
            "1/1 [==============================] - 0s 28ms/step\n",
            "actual:  6, predicted = [7]\n",
            "actual:  9, predicted = [7]\n",
            "actual:  9, predicted = [7]\n",
            "actual:  4, predicted = [7]\n",
            "actual:  1, predicted = [7]\n",
            "actual:  1, predicted = [7]\n",
            "actual:  2, predicted = [7]\n",
            "actual:  7, predicted = [7]\n",
            "actual:  8, predicted = [7]\n",
            "actual:  3, predicted = [7]\n",
            "1/1 [==============================] - 0s 24ms/step\n",
            "actual:  6, predicted = [8]\n",
            "actual:  9, predicted = [8]\n",
            "actual:  9, predicted = [8]\n",
            "actual:  4, predicted = [8]\n",
            "actual:  1, predicted = [8]\n",
            "actual:  1, predicted = [8]\n",
            "actual:  2, predicted = [8]\n",
            "actual:  7, predicted = [8]\n",
            "actual:  8, predicted = [8]\n",
            "actual:  3, predicted = [8]\n",
            "1/1 [==============================] - 0s 25ms/step\n",
            "actual:  6, predicted = [9]\n",
            "actual:  9, predicted = [9]\n",
            "actual:  9, predicted = [9]\n",
            "actual:  4, predicted = [9]\n",
            "actual:  1, predicted = [9]\n",
            "actual:  1, predicted = [9]\n",
            "actual:  2, predicted = [9]\n",
            "actual:  7, predicted = [9]\n",
            "actual:  8, predicted = [9]\n",
            "actual:  3, predicted = [9]\n"
          ]
        }
      ]
    },
    {
      "cell_type": "code",
      "source": [
        "predictions = np.array([np.argmax(prediction) for prediction in model_2.predict(x_val[:11])])"
      ],
      "metadata": {
        "colab": {
          "base_uri": "https://localhost:8080/"
        },
        "id": "tLUoBQMz_omV",
        "outputId": "d1ac6e33-2150-41b0-d9fa-5885c9a1644d"
      },
      "execution_count": 145,
      "outputs": [
        {
          "output_type": "stream",
          "name": "stdout",
          "text": [
            "1/1 [==============================] - 0s 42ms/step\n"
          ]
        }
      ]
    },
    {
      "cell_type": "code",
      "source": [
        "predictions"
      ],
      "metadata": {
        "colab": {
          "base_uri": "https://localhost:8080/"
        },
        "id": "EYVBoXdg_oqO",
        "outputId": "cbdeaae1-ea02-4a05-9695-8756ebdfa6a8"
      },
      "execution_count": 147,
      "outputs": [
        {
          "output_type": "execute_result",
          "data": {
            "text/plain": [
              "array([6, 8, 9, 4, 0, 9, 2, 7, 8, 9, 4])"
            ]
          },
          "metadata": {},
          "execution_count": 147
        }
      ]
    },
    {
      "cell_type": "markdown",
      "source": [
        "## Evaluations"
      ],
      "metadata": {
        "id": "d6bc1mTHFyGf"
      }
    },
    {
      "cell_type": "code",
      "source": [
        "model_2.metrics_names"
      ],
      "metadata": {
        "colab": {
          "base_uri": "https://localhost:8080/"
        },
        "id": "H29Ce4ys_ovZ",
        "outputId": "6b0252e6-1ff6-42ba-8c5e-2d69964a1fb2"
      },
      "execution_count": 148,
      "outputs": [
        {
          "output_type": "execute_result",
          "data": {
            "text/plain": [
              "['loss', 'accuracy']"
            ]
          },
          "metadata": {},
          "execution_count": 148
        }
      ]
    },
    {
      "cell_type": "code",
      "source": [
        "test_loss, test_accuracy = model_2.evaluate(x_test, y_test)\n",
        "print(f'test loss is: {test_loss:0.3} and test accuracy is:{test_accuracy:0.1%}')"
      ],
      "metadata": {
        "colab": {
          "base_uri": "https://localhost:8080/"
        },
        "id": "UNJjCa9o_ozB",
        "outputId": "1ce5fd2b-f8d1-4523-dc60-b85eca72be83"
      },
      "execution_count": 150,
      "outputs": [
        {
          "output_type": "stream",
          "name": "stdout",
          "text": [
            "313/313 [==============================] - 2s 6ms/step - loss: 1.4092 - accuracy: 0.5096\n",
            "test loss is: 1.41 and test accuracy is:51.0%\n"
          ]
        }
      ]
    },
    {
      "cell_type": "markdown",
      "source": [
        "## Confusion Matrix"
      ],
      "metadata": {
        "id": "7b3UmHVzGcum"
      }
    },
    {
      "cell_type": "code",
      "source": [
        "predictions = np.array([np.argmax(prediction) for prediction in model_2.predict(x_test)])"
      ],
      "metadata": {
        "colab": {
          "base_uri": "https://localhost:8080/"
        },
        "id": "R6HydzOeHTWb",
        "outputId": "584a0faf-4009-4475-c9b9-b82371f24543"
      },
      "execution_count": 152,
      "outputs": [
        {
          "output_type": "stream",
          "name": "stdout",
          "text": [
            "313/313 [==============================] - 3s 8ms/step\n"
          ]
        }
      ]
    },
    {
      "cell_type": "code",
      "source": [
        "conf_matrix = confusion_matrix(y_test, predictions )"
      ],
      "metadata": {
        "id": "XSxKufcG_o6V"
      },
      "execution_count": 153,
      "outputs": []
    },
    {
      "cell_type": "code",
      "source": [
        "conf_matrix.shape"
      ],
      "metadata": {
        "colab": {
          "base_uri": "https://localhost:8080/"
        },
        "id": "BtsqAmClGb1X",
        "outputId": "02e85d8b-93af-475a-ef65-ab48f7f52e22"
      },
      "execution_count": 155,
      "outputs": [
        {
          "output_type": "execute_result",
          "data": {
            "text/plain": [
              "(10, 10)"
            ]
          },
          "metadata": {},
          "execution_count": 155
        }
      ]
    },
    {
      "cell_type": "code",
      "source": [
        "nr_rows = conf_matrix.shape[0]\n",
        "nr_cols = conf_matrix.shape[1]"
      ],
      "metadata": {
        "id": "4HR3nHOwGb4a"
      },
      "execution_count": 177,
      "outputs": []
    },
    {
      "cell_type": "code",
      "source": [
        "nr_rows"
      ],
      "metadata": {
        "colab": {
          "base_uri": "https://localhost:8080/"
        },
        "id": "jmBTKMKSLNXA",
        "outputId": "1a890088-069c-488a-d928-5e70f036fc83"
      },
      "execution_count": 176,
      "outputs": [
        {
          "output_type": "execute_result",
          "data": {
            "text/plain": [
              "array([555,  25, 114,  21,  33,  13,  31,  24, 146,  38])"
            ]
          },
          "metadata": {},
          "execution_count": 176
        }
      ]
    },
    {
      "cell_type": "code",
      "source": [
        "conf_matrix.max()"
      ],
      "metadata": {
        "colab": {
          "base_uri": "https://localhost:8080/"
        },
        "id": "k3MDFxZMGb71",
        "outputId": "bb119cf0-0ea4-4898-ebaa-84537aa48e95"
      },
      "execution_count": 158,
      "outputs": [
        {
          "output_type": "execute_result",
          "data": {
            "text/plain": [
              "667"
            ]
          },
          "metadata": {},
          "execution_count": 158
        }
      ]
    },
    {
      "cell_type": "code",
      "source": [
        "conf_matrix.min()"
      ],
      "metadata": {
        "colab": {
          "base_uri": "https://localhost:8080/"
        },
        "id": "4Jl26wy3gFF6",
        "outputId": "df5196c3-5157-459f-d980-aac0aefb1a5a"
      },
      "execution_count": 159,
      "outputs": [
        {
          "output_type": "execute_result",
          "data": {
            "text/plain": [
              "5"
            ]
          },
          "metadata": {},
          "execution_count": 159
        }
      ]
    },
    {
      "cell_type": "code",
      "source": [
        "conf_matrix[0]"
      ],
      "metadata": {
        "colab": {
          "base_uri": "https://localhost:8080/"
        },
        "id": "wLAbeAWBKyI4",
        "outputId": "cafc8f60-859e-4e99-c10f-b12eb990eaa9"
      },
      "execution_count": 172,
      "outputs": [
        {
          "output_type": "execute_result",
          "data": {
            "text/plain": [
              "array([555,  25, 114,  21,  33,  13,  31,  24, 146,  38])"
            ]
          },
          "metadata": {},
          "execution_count": 172
        }
      ]
    },
    {
      "cell_type": "code",
      "source": [
        "NR_CLASSES = 10"
      ],
      "metadata": {
        "id": "2xzDF8GVIwJ_"
      },
      "execution_count": 162,
      "outputs": []
    },
    {
      "cell_type": "code",
      "source": [
        "plt.figure(figsize=(7,7), dpi=100)\n",
        "plt.imshow(conf_matrix, cmap='Reds')\n",
        "\n",
        "plt.title('Confusion Matrix', fontsize=16)\n",
        "plt.ylabel('Actual Labels', fontsize=12)\n",
        "plt.xlabel('Predicted Labels', fontsize=12)\n",
        "tick_marks = np.arange(NR_CLASSES)\n",
        "plt.yticks(tick_marks, LABEL_NAMES)\n",
        "plt.xticks(tick_marks, LABEL_NAMES)\n",
        "plt.colorbar()\n",
        "\n",
        "for i, j in itertools.product(range(nr_rows), range(nr_cols)):\n",
        "  plt.text(j, i, conf_matrix[i,j], horizontalalignment='center',\n",
        "           color='white' if conf_matrix[i,j] > conf_matrix.max() / 2 else 'black')\n",
        "\n",
        "\n",
        "plt.show()"
      ],
      "metadata": {
        "colab": {
          "base_uri": "https://localhost:8080/",
          "height": 565
        },
        "id": "2KThlLQNHw03",
        "outputId": "88b83023-5bb0-4eb8-9ba7-f5b92d704d5d"
      },
      "execution_count": 194,
      "outputs": [
        {
          "output_type": "display_data",
          "data": {
            "text/plain": [
              "<Figure size 700x700 with 2 Axes>"
            ],
            "image/png": "[encoded data removed]"
          },
          "metadata": {
            "needs_background": "light"
          }
        }
      ]
    },
    {
      "cell_type": "markdown",
      "source": [],
      "metadata": {
        "id": "xxLH2o8eJmC7"
      }
    },
    {
      "cell_type": "code",
      "source": [
        "#true positives\n",
        "np.diag(conf_matrix)"
      ],
      "metadata": {
        "colab": {
          "base_uri": "https://localhost:8080/"
        },
        "id": "OedKUpV7Hw3b",
        "outputId": "c53377d1-dea1-4854-b819-16e642426eef"
      },
      "execution_count": 185,
      "outputs": [
        {
          "output_type": "execute_result",
          "data": {
            "text/plain": [
              "array([555, 574, 452, 300, 446, 391, 623, 536, 667, 552])"
            ]
          },
          "metadata": {},
          "execution_count": 185
        }
      ]
    },
    {
      "cell_type": "code",
      "source": [
        "recall = np.diag(conf_matrix) / np.sum(conf_matrix, axis=1)\n",
        "recall"
      ],
      "metadata": {
        "colab": {
          "base_uri": "https://localhost:8080/"
        },
        "id": "LFVgEYx5Hw6i",
        "outputId": "1a724b2a-bc60-4b5f-f3b0-12831ac996f8"
      },
      "execution_count": 186,
      "outputs": [
        {
          "output_type": "execute_result",
          "data": {
            "text/plain": [
              "array([0.555, 0.574, 0.452, 0.3  , 0.446, 0.391, 0.623, 0.536, 0.667,\n",
              "       0.552])"
            ]
          },
          "metadata": {},
          "execution_count": 186
        }
      ]
    },
    {
      "cell_type": "code",
      "source": [
        "#false positives\n",
        "precision = np.diag(conf_matrix) / np.sum(conf_matrix, axis=0)\n",
        "precision"
      ],
      "metadata": {
        "colab": {
          "base_uri": "https://localhost:8080/"
        },
        "id": "ibY0CJmlHw96",
        "outputId": "f8ca6fa4-6f53-4954-ba1e-78b3edbb13a9"
      },
      "execution_count": 187,
      "outputs": [
        {
          "output_type": "execute_result",
          "data": {
            "text/plain": [
              "array([0.566, 0.71 , 0.365, 0.346, 0.462, 0.428, 0.484, 0.599, 0.603,\n",
              "       0.587])"
            ]
          },
          "metadata": {},
          "execution_count": 187
        }
      ]
    },
    {
      "cell_type": "code",
      "source": [
        "avg_recall = np.mean(recall)\n",
        "print(f'Model 2 recall score is {avg_recall:.2%}')"
      ],
      "metadata": {
        "colab": {
          "base_uri": "https://localhost:8080/"
        },
        "id": "FOr7sjF2HxBC",
        "outputId": "733fe9b7-6e26-4dcf-a811-32219b9b608a"
      },
      "execution_count": 189,
      "outputs": [
        {
          "output_type": "stream",
          "name": "stdout",
          "text": [
            "Model 2 recall score is 50.96%\n"
          ]
        }
      ]
    },
    {
      "cell_type": "code",
      "source": [
        "avg_precision = np.mean(precision)\n",
        "print(f'Model 2 precision score is {avg_precision:.2%}')"
      ],
      "metadata": {
        "colab": {
          "base_uri": "https://localhost:8080/"
        },
        "id": "y_TkQqDtHxD6",
        "outputId": "ebbbe0f9-4824-42b1-f3ab-58485b1b9f3f"
      },
      "execution_count": 190,
      "outputs": [
        {
          "output_type": "stream",
          "name": "stdout",
          "text": [
            "Model 2 precision score is 51.50%\n"
          ]
        }
      ]
    },
    {
      "cell_type": "code",
      "source": [
        "f1_score = 2 * (avg_precision * avg_recall) / (avg_precision + avg_recall)\n",
        "print(f'f1 score is {f1_score:.2%}')"
      ],
      "metadata": {
        "colab": {
          "base_uri": "https://localhost:8080/"
        },
        "id": "HqmzvWotHxFz",
        "outputId": "34d84f14-d401-43d8-b2e9-e8bf14899c55"
      },
      "execution_count": 193,
      "outputs": [
        {
          "output_type": "stream",
          "name": "stdout",
          "text": [
            "f1 score is 51.23%\n"
          ]
        }
      ]
    }
  ]
}